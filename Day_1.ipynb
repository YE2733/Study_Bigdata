{
 "cells": [
  {
   "attachments": {},
   "cell_type": "markdown",
   "id": "841c6184",
   "metadata": {},
   "source": [
    "### 작업형 유형 1 문제(1)\n",
    "#### 데이터 정렬과 평균치 산출"
   ]
  },
  {
   "cell_type": "code",
   "execution_count": 1,
   "id": "535fa595",
   "metadata": {},
   "outputs": [],
   "source": [
    "# alcohol(음주수치)이 상위 10번째 값으로 상위 1~10위의 범위의 값을 변경한 후\n",
    "# speeding(속도)가 7이상의 alcohol(음주수치) 데이터들의 평균 산출\n",
    "# 최종 결과만 print 출력"
   ]
  },
  {
   "cell_type": "code",
   "execution_count": 1,
   "id": "1a664fa9",
   "metadata": {},
   "outputs": [
    {
     "name": "stdout",
     "output_type": "stream",
     "text": [
      "Requirement already satisfied: seaborn in c:\\users\\ayeong\\anaconda3\\lib\\site-packages (0.11.2)\n",
      "Requirement already satisfied: pandas>=0.23 in c:\\users\\ayeong\\anaconda3\\lib\\site-packages (from seaborn) (1.4.2)\n",
      "Requirement already satisfied: scipy>=1.0 in c:\\users\\ayeong\\anaconda3\\lib\\site-packages (from seaborn) (1.7.3)\n",
      "Requirement already satisfied: numpy>=1.15 in c:\\users\\ayeong\\anaconda3\\lib\\site-packages (from seaborn) (1.21.5)\n",
      "Requirement already satisfied: matplotlib>=2.2 in c:\\users\\ayeong\\anaconda3\\lib\\site-packages (from seaborn) (3.5.1)\n",
      "Note: you may need to restart the kernel to use updated packages.Requirement already satisfied: python-dateutil>=2.7 in c:\\users\\ayeong\\anaconda3\\lib\\site-packages (from matplotlib>=2.2->seaborn) (2.8.2)\n",
      "Requirement already satisfied: pyparsing>=2.2.1 in c:\\users\\ayeong\\anaconda3\\lib\\site-packages (from matplotlib>=2.2->seaborn) (3.0.4)\n",
      "Requirement already satisfied: kiwisolver>=1.0.1 in c:\\users\\ayeong\\anaconda3\\lib\\site-packages (from matplotlib>=2.2->seaborn) (1.3.2)\n",
      "Requirement already satisfied: pillow>=6.2.0 in c:\\users\\ayeong\\anaconda3\\lib\\site-packages (from matplotlib>=2.2->seaborn) (9.0.1)\n",
      "Requirement already satisfied: packaging>=20.0 in c:\\users\\ayeong\\anaconda3\\lib\\site-packages (from matplotlib>=2.2->seaborn) (21.3)\n",
      "Requirement already satisfied: cycler>=0.10 in c:\\users\\ayeong\\anaconda3\\lib\\site-packages (from matplotlib>=2.2->seaborn) (0.11.0)\n",
      "Requirement already satisfied: fonttools>=4.22.0 in c:\\users\\ayeong\\anaconda3\\lib\\site-packages (from matplotlib>=2.2->seaborn) (4.25.0)\n",
      "Requirement already satisfied: pytz>=2020.1 in c:\\users\\ayeong\\anaconda3\\lib\\site-packages (from pandas>=0.23->seaborn) (2021.3)\n",
      "Requirement already satisfied: six>=1.5 in c:\\users\\ayeong\\anaconda3\\lib\\site-packages (from python-dateutil>=2.7->matplotlib>=2.2->seaborn) (1.16.0)\n",
      "\n"
     ]
    }
   ],
   "source": [
    "pip install seaborn"
   ]
  },
  {
   "cell_type": "code",
   "execution_count": 2,
   "id": "97bfc61f",
   "metadata": {},
   "outputs": [
    {
     "name": "stdout",
     "output_type": "stream",
     "text": [
      "   total  speeding  alcohol  not_distracted  no_previous  ins_premium  \\\n",
      "0   18.8     7.332    5.640          18.048       15.040       784.55   \n",
      "1   18.1     7.421    4.525          16.290       17.014      1053.48   \n",
      "2   18.6     6.510    5.208          15.624       17.856       899.47   \n",
      "3   22.4     4.032    5.824          21.056       21.280       827.34   \n",
      "4   12.0     4.200    3.360          10.920       10.680       878.41   \n",
      "5   13.6     5.032    3.808          10.744       12.920       835.50   \n",
      "6   10.8     4.968    3.888           9.396        8.856      1068.73   \n",
      "7   16.2     6.156    4.860          14.094       16.038      1137.87   \n",
      "8    5.9     2.006    1.593           5.900        5.900      1273.89   \n",
      "\n",
      "   ins_losses abbrev  \n",
      "0      145.08     AL  \n",
      "1      133.93     AK  \n",
      "2      110.35     AZ  \n",
      "3      142.39     AR  \n",
      "4      165.63     CA  \n",
      "5      139.91     CO  \n",
      "6      167.02     CT  \n",
      "7      151.48     DE  \n",
      "8      136.05     DC  \n"
     ]
    }
   ],
   "source": [
    "import seaborn as sns\n",
    "import pandas as pd\n",
    "sns.get_dataset_names()\n",
    "df = sns.load_dataset('car_crashes')\n",
    "print(df.head(9))"
   ]
  },
  {
   "cell_type": "code",
   "execution_count": 3,
   "id": "dd141f0c",
   "metadata": {},
   "outputs": [],
   "source": [
    "# alcohol열 내림차순으로 정렬 후 data 변수에 할당 \n",
    "## sort_values(by=정렬기준(열),ascending=False(내림차순))\n",
    "data = df.sort_values(by=df.columns[2], ascending=False)"
   ]
  },
  {
   "cell_type": "code",
   "execution_count": 4,
   "id": "2793003c",
   "metadata": {
    "scrolled": true
   },
   "outputs": [
    {
     "data": {
      "text/plain": [
       "5.770999999999999"
      ]
     },
     "execution_count": 4,
     "metadata": {},
     "output_type": "execute_result"
    }
   ],
   "source": [
    "# 상위 10번째 값을 추출하여 ten변수에 할당\n",
    "ten = data.iloc[9,2]\n",
    "ten"
   ]
  },
  {
   "cell_type": "code",
   "execution_count": 5,
   "id": "c656ea4c",
   "metadata": {},
   "outputs": [
    {
     "data": {
      "text/plain": [
       "34    5.771\n",
       "40    5.771\n",
       "26    5.771\n",
       "43    5.771\n",
       "11    5.771\n",
       "18    5.771\n",
       "48    5.771\n",
       "41    5.771\n",
       "3     5.771\n",
       "36    5.771\n",
       "Name: alcohol, dtype: float64"
      ]
     },
     "execution_count": 5,
     "metadata": {},
     "output_type": "execute_result"
    }
   ],
   "source": [
    "# alcohol열의 상위 1~10위 범위의 값을추출하여 ten변수의 값으로 대체\n",
    "data.iloc[:10,2] = ten\n",
    "data.iloc[:10,2]"
   ]
  },
  {
   "cell_type": "code",
   "execution_count": 6,
   "id": "85825ef5",
   "metadata": {
    "scrolled": true
   },
   "outputs": [
    {
     "data": {
      "text/html": [
       "<div>\n",
       "<style scoped>\n",
       "    .dataframe tbody tr th:only-of-type {\n",
       "        vertical-align: middle;\n",
       "    }\n",
       "\n",
       "    .dataframe tbody tr th {\n",
       "        vertical-align: top;\n",
       "    }\n",
       "\n",
       "    .dataframe thead th {\n",
       "        text-align: right;\n",
       "    }\n",
       "</style>\n",
       "<table border=\"1\" class=\"dataframe\">\n",
       "  <thead>\n",
       "    <tr style=\"text-align: right;\">\n",
       "      <th></th>\n",
       "      <th>total</th>\n",
       "      <th>speeding</th>\n",
       "      <th>alcohol</th>\n",
       "      <th>not_distracted</th>\n",
       "      <th>no_previous</th>\n",
       "      <th>ins_premium</th>\n",
       "      <th>ins_losses</th>\n",
       "      <th>abbrev</th>\n",
       "    </tr>\n",
       "  </thead>\n",
       "  <tbody>\n",
       "    <tr>\n",
       "      <th>40</th>\n",
       "      <td>23.9</td>\n",
       "      <td>9.082</td>\n",
       "      <td>5.771</td>\n",
       "      <td>22.944</td>\n",
       "      <td>19.359</td>\n",
       "      <td>858.97</td>\n",
       "      <td>116.29</td>\n",
       "      <td>SC</td>\n",
       "    </tr>\n",
       "    <tr>\n",
       "      <th>26</th>\n",
       "      <td>21.4</td>\n",
       "      <td>8.346</td>\n",
       "      <td>5.771</td>\n",
       "      <td>17.976</td>\n",
       "      <td>18.190</td>\n",
       "      <td>816.21</td>\n",
       "      <td>85.15</td>\n",
       "      <td>MT</td>\n",
       "    </tr>\n",
       "    <tr>\n",
       "      <th>43</th>\n",
       "      <td>19.4</td>\n",
       "      <td>7.760</td>\n",
       "      <td>5.771</td>\n",
       "      <td>17.654</td>\n",
       "      <td>16.878</td>\n",
       "      <td>1004.75</td>\n",
       "      <td>156.83</td>\n",
       "      <td>TX</td>\n",
       "    </tr>\n",
       "    <tr>\n",
       "      <th>11</th>\n",
       "      <td>17.5</td>\n",
       "      <td>9.450</td>\n",
       "      <td>5.771</td>\n",
       "      <td>14.350</td>\n",
       "      <td>15.225</td>\n",
       "      <td>861.18</td>\n",
       "      <td>120.92</td>\n",
       "      <td>HI</td>\n",
       "    </tr>\n",
       "    <tr>\n",
       "      <th>18</th>\n",
       "      <td>20.5</td>\n",
       "      <td>7.175</td>\n",
       "      <td>5.771</td>\n",
       "      <td>14.965</td>\n",
       "      <td>20.090</td>\n",
       "      <td>1281.55</td>\n",
       "      <td>194.78</td>\n",
       "      <td>LA</td>\n",
       "    </tr>\n",
       "    <tr>\n",
       "      <th>48</th>\n",
       "      <td>23.8</td>\n",
       "      <td>8.092</td>\n",
       "      <td>5.771</td>\n",
       "      <td>23.086</td>\n",
       "      <td>20.706</td>\n",
       "      <td>992.61</td>\n",
       "      <td>152.56</td>\n",
       "      <td>WV</td>\n",
       "    </tr>\n",
       "    <tr>\n",
       "      <th>38</th>\n",
       "      <td>18.2</td>\n",
       "      <td>9.100</td>\n",
       "      <td>5.642</td>\n",
       "      <td>17.472</td>\n",
       "      <td>16.016</td>\n",
       "      <td>905.99</td>\n",
       "      <td>153.86</td>\n",
       "      <td>PA</td>\n",
       "    </tr>\n",
       "    <tr>\n",
       "      <th>0</th>\n",
       "      <td>18.8</td>\n",
       "      <td>7.332</td>\n",
       "      <td>5.640</td>\n",
       "      <td>18.048</td>\n",
       "      <td>15.040</td>\n",
       "      <td>784.55</td>\n",
       "      <td>145.08</td>\n",
       "      <td>AL</td>\n",
       "    </tr>\n",
       "    <tr>\n",
       "      <th>50</th>\n",
       "      <td>17.4</td>\n",
       "      <td>7.308</td>\n",
       "      <td>5.568</td>\n",
       "      <td>14.094</td>\n",
       "      <td>15.660</td>\n",
       "      <td>791.14</td>\n",
       "      <td>122.04</td>\n",
       "      <td>WY</td>\n",
       "    </tr>\n",
       "    <tr>\n",
       "      <th>1</th>\n",
       "      <td>18.1</td>\n",
       "      <td>7.421</td>\n",
       "      <td>4.525</td>\n",
       "      <td>16.290</td>\n",
       "      <td>17.014</td>\n",
       "      <td>1053.48</td>\n",
       "      <td>133.93</td>\n",
       "      <td>AK</td>\n",
       "    </tr>\n",
       "  </tbody>\n",
       "</table>\n",
       "</div>"
      ],
      "text/plain": [
       "    total  speeding  alcohol  not_distracted  no_previous  ins_premium  \\\n",
       "40   23.9     9.082    5.771          22.944       19.359       858.97   \n",
       "26   21.4     8.346    5.771          17.976       18.190       816.21   \n",
       "43   19.4     7.760    5.771          17.654       16.878      1004.75   \n",
       "11   17.5     9.450    5.771          14.350       15.225       861.18   \n",
       "18   20.5     7.175    5.771          14.965       20.090      1281.55   \n",
       "48   23.8     8.092    5.771          23.086       20.706       992.61   \n",
       "38   18.2     9.100    5.642          17.472       16.016       905.99   \n",
       "0    18.8     7.332    5.640          18.048       15.040       784.55   \n",
       "50   17.4     7.308    5.568          14.094       15.660       791.14   \n",
       "1    18.1     7.421    4.525          16.290       17.014      1053.48   \n",
       "\n",
       "    ins_losses abbrev  \n",
       "40      116.29     SC  \n",
       "26       85.15     MT  \n",
       "43      156.83     TX  \n",
       "11      120.92     HI  \n",
       "18      194.78     LA  \n",
       "48      152.56     WV  \n",
       "38      153.86     PA  \n",
       "0       145.08     AL  \n",
       "50      122.04     WY  \n",
       "1       133.93     AK  "
      ]
     },
     "execution_count": 6,
     "metadata": {},
     "output_type": "execute_result"
    }
   ],
   "source": [
    "# 수정된 데이터를 기반으로 speeding열이 7이상인 값을 result 변수에 할당\n",
    "result = data[(data['speeding']>=7)]\n",
    "result"
   ]
  },
  {
   "cell_type": "code",
   "execution_count": 7,
   "id": "cdd1591b",
   "metadata": {
    "scrolled": true
   },
   "outputs": [
    {
     "name": "stdout",
     "output_type": "stream",
     "text": [
      "최종결과물은 5.600099999999999\n"
     ]
    }
   ],
   "source": [
    "# mean함수로 alcohol열의 평균값 산출\n",
    "print('최종결과물은',result['alcohol'].mean())"
   ]
  }
 ],
 "metadata": {
  "kernelspec": {
   "display_name": "Python 3 (ipykernel)",
   "language": "python",
   "name": "python3"
  },
  "language_info": {
   "codemirror_mode": {
    "name": "ipython",
    "version": 3
   },
   "file_extension": ".py",
   "mimetype": "text/x-python",
   "name": "python",
   "nbconvert_exporter": "python",
   "pygments_lexer": "ipython3",
   "version": "3.9.12"
  }
 },
 "nbformat": 4,
 "nbformat_minor": 5
}
